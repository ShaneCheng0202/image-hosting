{
 "cells": [
  {
   "cell_type": "markdown",
   "id": "10a06564",
   "metadata": {},
   "source": [
    "# 简明Python基础"
   ]
  },
  {
   "cell_type": "markdown",
   "id": "6e0e3041",
   "metadata": {},
   "source": [
    "## 1 简单print用法"
   ]
  },
  {
   "cell_type": "markdown",
   "id": "e2035eff",
   "metadata": {},
   "source": [
    "print 函数 - 在终端输出，python 3 需要加阔号，python 2 不用"
   ]
  },
  {
   "cell_type": "markdown",
   "id": "c2744169",
   "metadata": {},
   "source": [
    "Python中没有强制的语句终止字符"
   ]
  },
  {
   "cell_type": "code",
   "execution_count": 1,
   "id": "b25fa055",
   "metadata": {},
   "outputs": [
    {
     "name": "stdout",
     "output_type": "stream",
     "text": [
      "hello,world\n"
     ]
    }
   ],
   "source": [
    "print(\"hello,world\")"
   ]
  },
  {
   "cell_type": "markdown",
   "id": "fab190fb",
   "metadata": {},
   "source": [
    "print默认输出是换行的"
   ]
  },
  {
   "cell_type": "code",
   "execution_count": 2,
   "id": "a85ff9b2",
   "metadata": {},
   "outputs": [
    {
     "name": "stdout",
     "output_type": "stream",
     "text": [
      "hello\n",
      "world\n"
     ]
    }
   ],
   "source": [
    "print(\"hello\")\n",
    "print(\"world\")"
   ]
  },
  {
   "cell_type": "markdown",
   "id": "fafebc06",
   "metadata": {},
   "source": [
    "如果要实现print 输出不换行，需要指定结尾符 end=''"
   ]
  },
  {
   "cell_type": "code",
   "execution_count": 2,
   "id": "591bc905",
   "metadata": {},
   "outputs": [
    {
     "name": "stdout",
     "output_type": "stream",
     "text": [
      "hello world\n"
     ]
    }
   ],
   "source": [
    "print(\"hello\",end=' ')\n",
    "print(\"world\")"
   ]
  },
  {
   "cell_type": "code",
   "execution_count": 5,
   "id": "725fadf7",
   "metadata": {},
   "outputs": [
    {
     "name": "stdout",
     "output_type": "stream",
     "text": [
      "hello world\n"
     ]
    }
   ],
   "source": [
    "print(\"hello\",\"world\")#默认中间加空格"
   ]
  },
  {
   "cell_type": "markdown",
   "id": "ca03c508",
   "metadata": {},
   "source": [
    "## 2. 变量和基本数据类型"
   ]
  },
  {
   "cell_type": "markdown",
   "id": "5eb5a351",
   "metadata": {},
   "source": [
    "每个变量在内存中创建，都包括变量的标识，名称和数据这些信息"
   ]
  },
  {
   "cell_type": "markdown",
   "id": "61b2aa15",
   "metadata": {},
   "source": [
    "每个变量在使用前必须赋值，赋值号\"=\""
   ]
  },
  {
   "cell_type": "code",
   "execution_count": 8,
   "id": "5758c3b1",
   "metadata": {},
   "outputs": [
    {
     "name": "stdout",
     "output_type": "stream",
     "text": [
      "3 3.14 hello\n"
     ]
    }
   ],
   "source": [
    "#定义变量不需要指定数据类型\n",
    "int_var = 3 \n",
    "float_var = 3.14\n",
    "str_var = \"hello\"\n",
    "print(int_var,float_var,str_var)"
   ]
  },
  {
   "cell_type": "code",
   "execution_count": 12,
   "id": "e5a502f3",
   "metadata": {},
   "outputs": [
    {
     "name": "stdout",
     "output_type": "stream",
     "text": [
      "3 <class 'int'>\n",
      "3.14 <class 'float'>\n",
      "hello <class 'str'>\n"
     ]
    }
   ],
   "source": [
    "print(int_var,type(int_var))\n",
    "print(float_var,type(float_var))\n",
    "print(str_var,type(str_var))"
   ]
  },
  {
   "cell_type": "markdown",
   "id": "84dd28b9",
   "metadata": {},
   "source": [
    "标识符 英文字母开头，字母下划线数字组合 python3支持中文标识符"
   ]
  },
  {
   "cell_type": "code",
   "execution_count": 13,
   "id": "16062581",
   "metadata": {},
   "outputs": [
    {
     "name": "stdout",
     "output_type": "stream",
     "text": [
      "1\n"
     ]
    }
   ],
   "source": [
    "变量 = 1\n",
    "print(变量)"
   ]
  },
  {
   "cell_type": "markdown",
   "id": "15dcfefc",
   "metadata": {},
   "source": [
    "### 2.1.numbers(数字)数据类型"
   ]
  },
  {
   "cell_type": "markdown",
   "id": "cf23902d",
   "metadata": {},
   "source": [
    "Python支持不同的数字类型:\n",
    "* int(有符号整型），缺省十进制，还可以表示2进制、8进制和16进制;<p>Python3不再保留长整形，统一为int\n",
    "* float（浮点型），可以用科学计数法表示\n",
    "* complex（复数），复数由实数部分和虚数部分构成，可以用a+ bj,或者<P>complex(a,b)表示，复数的实部a和虚部b都是浮点型"
   ]
  },
  {
   "cell_type": "code",
   "execution_count": 15,
   "id": "c1b48c52",
   "metadata": {},
   "outputs": [
    {
     "name": "stdout",
     "output_type": "stream",
     "text": [
      "2 8 16\n"
     ]
    }
   ],
   "source": [
    "# 整型表示 第一个是零 第二个是字母\n",
    "# 语句写在一行，要用分号隔开\n",
    "var1 = 0b10;var2 = 0o10; var3 = 0x10;\n",
    "print(var1,var2,var3)"
   ]
  },
  {
   "cell_type": "code",
   "execution_count": 17,
   "id": "e60f35ae",
   "metadata": {},
   "outputs": [
    {
     "name": "stdout",
     "output_type": "stream",
     "text": [
      "1234123557861365192875881257832 <class 'int'>\n"
     ]
    }
   ],
   "source": [
    "# 不在保存长整型\n",
    "var1 = 1234123557861365192875881257832\n",
    "print(var1,type(var1))"
   ]
  },
  {
   "cell_type": "code",
   "execution_count": 22,
   "id": "d24ad9e8",
   "metadata": {},
   "outputs": [
    {
     "name": "stdout",
     "output_type": "stream",
     "text": [
      "1e-05 6700000000000000.0 6.7e+16 -1.8\n"
     ]
    }
   ],
   "source": [
    "# 浮点型表示\n",
    "# -4~15次方输出不是科学技术法， ≤-5或≥16次方 输出科学计数法\n",
    "var1 = 1e-5;var2 = 6.7e15;var3 = 6.7e16;var4 = -1.8\n",
    "print(var1,var2,var3,var4)"
   ]
  },
  {
   "cell_type": "code",
   "execution_count": 23,
   "id": "96be4447",
   "metadata": {},
   "outputs": [
    {
     "name": "stdout",
     "output_type": "stream",
     "text": [
      "(3+5j) <class 'complex'> (340000+7.8j) <class 'complex'>\n"
     ]
    }
   ],
   "source": [
    "# 复数表示 \n",
    "var1 = 3+5j;var2 = complex(3.4e5,7.8);\n",
    "print(var1,type(var1),var2,type(var2))"
   ]
  },
  {
   "cell_type": "markdown",
   "id": "dc4a3f37",
   "metadata": {},
   "source": [
    "### 2.2布尔类型"
   ]
  },
  {
   "cell_type": "markdown",
   "id": "1954e551",
   "metadata": {},
   "source": [
    "bool值:True and False"
   ]
  },
  {
   "cell_type": "code",
   "execution_count": 25,
   "id": "7d4e4c78",
   "metadata": {},
   "outputs": [
    {
     "name": "stdout",
     "output_type": "stream",
     "text": [
      "True <class 'bool'>\n",
      "False <class 'bool'>\n"
     ]
    }
   ],
   "source": [
    "# True 和 False 记得大写开头\n",
    "i_love_you = True\n",
    "you_love_me = False\n",
    "print(i_love_you,type(i_love_you))\n",
    "print(you_love_me,type(you_love_me))"
   ]
  },
  {
   "cell_type": "markdown",
   "id": "60440929",
   "metadata": {},
   "source": [
    "## 3.注释"
   ]
  },
  {
   "cell_type": "markdown",
   "id": "e6595c30",
   "metadata": {},
   "source": [
    "* 单行注释用\"#\"\n",
    "* 多行注释用'''或\"\"\""
   ]
  },
  {
   "cell_type": "code",
   "execution_count": 40,
   "id": "f2aa4776",
   "metadata": {
    "scrolled": false
   },
   "outputs": [
    {
     "name": "stdout",
     "output_type": "stream",
     "text": [
      "这个不是注释\n",
      "这个也不是注释\n"
     ]
    }
   ],
   "source": [
    "print(\"这个不是注释\")\n",
    "#print(\"这个是注释\")\n",
    "\n",
    "\"\"\"\n",
    "print(\"这个不是注释\")\n",
    "print(\"这个也不是注释\")\n",
    "\"\"\"\n",
    "\n",
    "print(\"这个也不是注释\")"
   ]
  },
  {
   "cell_type": "markdown",
   "id": "a649c686",
   "metadata": {},
   "source": [
    "## 4.算术运算"
   ]
  },
  {
   "cell_type": "markdown",
   "id": "7da11490",
   "metadata": {},
   "source": [
    "算术运算符，包括+、-、*、/、/，%\n",
    "假设变量:x=10,y=3"
   ]
  },
  {
   "cell_type": "markdown",
   "id": "81d0fa02",
   "metadata": {},
   "source": [
    "| 运算符 | 描述 | 实例\n",
    "| --- | --- | --- |\n",
    "| + | 加：两个对象相加 | x + y = 13\n",
    "| - | 减：两个对象相减 | x - y = 7\n",
    "| * | 乘：两个对象相乘 | x * y = 30\n",
    "| / | 除：两个对象相除 | x / y = 3.333333333\n",
    "| % | 取模：返回除法的余数| x % y = 1\n",
    "| ** | 幂：返回x的y次幂 | x + y = 1000\n",
    "| // | 取整除：返回商的整数部分（向下取整） | x // y = 3 ,10 // 3.0 = 3.0\n"
   ]
  },
  {
   "cell_type": "markdown",
   "id": "67094bf2",
   "metadata": {},
   "source": [
    "加 + ：两个对象相加"
   ]
  },
  {
   "cell_type": "code",
   "execution_count": 1,
   "id": "b3d09e84",
   "metadata": {},
   "outputs": [
    {
     "data": {
      "text/plain": [
       "13"
      ]
     },
     "execution_count": 1,
     "metadata": {},
     "output_type": "execute_result"
    }
   ],
   "source": [
    "10 + 3"
   ]
  },
  {
   "cell_type": "code",
   "execution_count": 2,
   "id": "1da97662",
   "metadata": {},
   "outputs": [
    {
     "name": "stdout",
     "output_type": "stream",
     "text": [
      "13.0 <class 'float'>\n"
     ]
    }
   ],
   "source": [
    "a = 10 + 3.0\n",
    "print(a,type(a))"
   ]
  },
  {
   "cell_type": "markdown",
   "id": "15bbac9c",
   "metadata": {},
   "source": [
    "减 - ：两个对象相减"
   ]
  },
  {
   "cell_type": "code",
   "execution_count": 4,
   "id": "b7a1ad65",
   "metadata": {},
   "outputs": [
    {
     "data": {
      "text/plain": [
       "6.5"
      ]
     },
     "execution_count": 4,
     "metadata": {},
     "output_type": "execute_result"
    }
   ],
   "source": [
    "10 - 3.5"
   ]
  },
  {
   "cell_type": "markdown",
   "id": "078ccd44",
   "metadata": {},
   "source": [
    "乘 * :"
   ]
  },
  {
   "cell_type": "code",
   "execution_count": 5,
   "id": "af624a9f",
   "metadata": {},
   "outputs": [
    {
     "data": {
      "text/plain": [
       "30"
      ]
     },
     "execution_count": 5,
     "metadata": {},
     "output_type": "execute_result"
    }
   ],
   "source": [
    "10 * 3"
   ]
  },
  {
   "cell_type": "markdown",
   "id": "4623d881",
   "metadata": {},
   "source": [
    "除 /:"
   ]
  },
  {
   "cell_type": "code",
   "execution_count": 7,
   "id": "51cf6046",
   "metadata": {},
   "outputs": [
    {
     "data": {
      "text/plain": [
       "3.3333333333333335"
      ]
     },
     "execution_count": 7,
     "metadata": {},
     "output_type": "execute_result"
    }
   ],
   "source": [
    "10 / 3"
   ]
  },
  {
   "cell_type": "markdown",
   "id": "c5a27bcd",
   "metadata": {},
   "source": [
    "取整除 // :返回商的整数部分（向下取整）"
   ]
  },
  {
   "cell_type": "code",
   "execution_count": 9,
   "id": "c1172ff2",
   "metadata": {},
   "outputs": [
    {
     "data": {
      "text/plain": [
       "3"
      ]
     },
     "execution_count": 9,
     "metadata": {},
     "output_type": "execute_result"
    }
   ],
   "source": [
    "10 // 3"
   ]
  },
  {
   "cell_type": "code",
   "execution_count": 11,
   "id": "757ffded",
   "metadata": {},
   "outputs": [
    {
     "data": {
      "text/plain": [
       "3.0"
      ]
     },
     "execution_count": 11,
     "metadata": {},
     "output_type": "execute_result"
    }
   ],
   "source": [
    "10 // 3.0"
   ]
  },
  {
   "cell_type": "code",
   "execution_count": 12,
   "id": "a19386ad",
   "metadata": {},
   "outputs": [
    {
     "data": {
      "text/plain": [
       "3.0"
      ]
     },
     "execution_count": 12,
     "metadata": {},
     "output_type": "execute_result"
    }
   ],
   "source": [
    "10.3 // 3"
   ]
  },
  {
   "cell_type": "markdown",
   "id": "0fc66f47",
   "metadata": {},
   "source": [
    "取余（取模） % ：返回除法的余数"
   ]
  },
  {
   "cell_type": "code",
   "execution_count": 13,
   "id": "062f5f3a",
   "metadata": {},
   "outputs": [
    {
     "data": {
      "text/plain": [
       "1"
      ]
     },
     "execution_count": 13,
     "metadata": {},
     "output_type": "execute_result"
    }
   ],
   "source": [
    "10 % 3"
   ]
  },
  {
   "cell_type": "markdown",
   "id": "a8c3b8e1",
   "metadata": {},
   "source": [
    "结果符号和除数符号相同"
   ]
  },
  {
   "cell_type": "code",
   "execution_count": 14,
   "id": "dca84517",
   "metadata": {},
   "outputs": [
    {
     "data": {
      "text/plain": [
       "2"
      ]
     },
     "execution_count": 14,
     "metadata": {},
     "output_type": "execute_result"
    }
   ],
   "source": [
    "-10 % 3"
   ]
  },
  {
   "cell_type": "code",
   "execution_count": 15,
   "id": "ccb20fd5",
   "metadata": {},
   "outputs": [
    {
     "data": {
      "text/plain": [
       "-2"
      ]
     },
     "execution_count": 15,
     "metadata": {},
     "output_type": "execute_result"
    }
   ],
   "source": [
    "10 % -3"
   ]
  },
  {
   "cell_type": "markdown",
   "id": "2bd3dcc7",
   "metadata": {},
   "source": [
    "幂运算 ** ："
   ]
  },
  {
   "cell_type": "code",
   "execution_count": 16,
   "id": "9d3db534",
   "metadata": {},
   "outputs": [
    {
     "data": {
      "text/plain": [
       "1000"
      ]
     },
     "execution_count": 16,
     "metadata": {},
     "output_type": "execute_result"
    }
   ],
   "source": [
    "10 ** 3"
   ]
  },
  {
   "cell_type": "code",
   "execution_count": 17,
   "id": "32f64c1a",
   "metadata": {},
   "outputs": [
    {
     "data": {
      "text/plain": [
       "1000.0"
      ]
     },
     "execution_count": 17,
     "metadata": {},
     "output_type": "execute_result"
    }
   ],
   "source": [
    "10 ** 3.0"
   ]
  },
  {
   "cell_type": "markdown",
   "id": "1a5431c9",
   "metadata": {},
   "source": [
    "## 5.比较运算符"
   ]
  },
  {
   "cell_type": "markdown",
   "id": "6103319d",
   "metadata": {},
   "source": [
    "| 运算符 | 描述 |\n",
    "| --- | --- |\n",
    "| == | 等于：比较两个对象是否相等 \n",
    "| != | 不等于：比较两个对象是否不相等 \n",
    "| <> | 不等于：比较两个对象是否不相等（类似于!=） \n",
    "| > | 大于：返回x是否大于y \n",
    "| < | 小于：返回x是否小于y \n",
    "| >= | 大于等于：返回x是否大于等于y \n",
    "| <= | 小于等于：返回x是否小于等于y\n"
   ]
  },
  {
   "cell_type": "code",
   "execution_count": 23,
   "id": "fe87ddc0",
   "metadata": {},
   "outputs": [
    {
     "data": {
      "text/plain": [
       "False"
      ]
     },
     "execution_count": 23,
     "metadata": {},
     "output_type": "execute_result"
    }
   ],
   "source": [
    "10 < 3"
   ]
  },
  {
   "cell_type": "code",
   "execution_count": 24,
   "id": "7d6745ec",
   "metadata": {},
   "outputs": [
    {
     "data": {
      "text/plain": [
       "True"
      ]
     },
     "execution_count": 24,
     "metadata": {},
     "output_type": "execute_result"
    }
   ],
   "source": [
    "10 > 3"
   ]
  },
  {
   "cell_type": "code",
   "execution_count": 25,
   "id": "b7a56ffa",
   "metadata": {},
   "outputs": [
    {
     "data": {
      "text/plain": [
       "True"
      ]
     },
     "execution_count": 25,
     "metadata": {},
     "output_type": "execute_result"
    }
   ],
   "source": [
    "10 >= 3"
   ]
  },
  {
   "cell_type": "code",
   "execution_count": 26,
   "id": "e19e635f",
   "metadata": {},
   "outputs": [
    {
     "data": {
      "text/plain": [
       "False"
      ]
     },
     "execution_count": 26,
     "metadata": {},
     "output_type": "execute_result"
    }
   ],
   "source": [
    "10 <= 3"
   ]
  },
  {
   "cell_type": "code",
   "execution_count": 27,
   "id": "1769894c",
   "metadata": {},
   "outputs": [
    {
     "data": {
      "text/plain": [
       "False"
      ]
     },
     "execution_count": 27,
     "metadata": {},
     "output_type": "execute_result"
    }
   ],
   "source": [
    "10 == 3"
   ]
  },
  {
   "cell_type": "code",
   "execution_count": 28,
   "id": "55f031d7",
   "metadata": {},
   "outputs": [
    {
     "data": {
      "text/plain": [
       "True"
      ]
     },
     "execution_count": 28,
     "metadata": {},
     "output_type": "execute_result"
    }
   ],
   "source": [
    "3 == 3.0"
   ]
  },
  {
   "cell_type": "code",
   "execution_count": 29,
   "id": "2c2ad5f2",
   "metadata": {},
   "outputs": [
    {
     "data": {
      "text/plain": [
       "False"
      ]
     },
     "execution_count": 29,
     "metadata": {},
     "output_type": "execute_result"
    }
   ],
   "source": [
    "3 == \"3\""
   ]
  },
  {
   "cell_type": "code",
   "execution_count": 30,
   "id": "28221bcb",
   "metadata": {},
   "outputs": [
    {
     "data": {
      "text/plain": [
       "True"
      ]
     },
     "execution_count": 30,
     "metadata": {},
     "output_type": "execute_result"
    }
   ],
   "source": [
    "10 != 3"
   ]
  },
  {
   "cell_type": "code",
   "execution_count": 31,
   "id": "845c402b",
   "metadata": {},
   "outputs": [
    {
     "data": {
      "text/plain": [
       "True"
      ]
     },
     "execution_count": 31,
     "metadata": {},
     "output_type": "execute_result"
    }
   ],
   "source": [
    "10 + 3 == 13"
   ]
  },
  {
   "cell_type": "markdown",
   "id": "f2af4982",
   "metadata": {},
   "source": [
    "## 6.赋值运算"
   ]
  },
  {
   "cell_type": "code",
   "execution_count": 2,
   "id": "d3dc3a32",
   "metadata": {},
   "outputs": [
    {
     "name": "stdout",
     "output_type": "stream",
     "text": [
      "13\n"
     ]
    }
   ],
   "source": [
    "z = 10 + 3 \n",
    "print(z)"
   ]
  },
  {
   "cell_type": "markdown",
   "id": "2567a325",
   "metadata": {},
   "source": [
    "+=:加法赋值运算符\n",
    "\n",
    "z += x 等效于z = z + x"
   ]
  },
  {
   "cell_type": "code",
   "execution_count": 4,
   "id": "80145044",
   "metadata": {},
   "outputs": [
    {
     "name": "stdout",
     "output_type": "stream",
     "text": [
      "13\n"
     ]
    }
   ],
   "source": [
    "z = 10\n",
    "z += 3\n",
    "print(z)"
   ]
  },
  {
   "cell_type": "markdown",
   "id": "80e6bddf",
   "metadata": {},
   "source": [
    "-=:加法赋值运算符\n",
    "\n",
    "z -= x 等效于z = z - x"
   ]
  },
  {
   "cell_type": "code",
   "execution_count": 5,
   "id": "05a0981f",
   "metadata": {},
   "outputs": [
    {
     "name": "stdout",
     "output_type": "stream",
     "text": [
      "7\n"
     ]
    }
   ],
   "source": [
    "z = 10\n",
    "z -= 3\n",
    "print(z)"
   ]
  },
  {
   "cell_type": "code",
   "execution_count": 8,
   "id": "7a87090a",
   "metadata": {},
   "outputs": [
    {
     "name": "stdout",
     "output_type": "stream",
     "text": [
      "70\n"
     ]
    }
   ],
   "source": [
    "z = 10\n",
    "z *= 4+3\n",
    "print(z)\n",
    "#等效于z=z*(4+3)"
   ]
  },
  {
   "cell_type": "code",
   "execution_count": 9,
   "id": "09ddd4c7",
   "metadata": {},
   "outputs": [
    {
     "ename": "SyntaxError",
     "evalue": "cannot assign to operator (<ipython-input-9-9fc237d254cc>, line 2)",
     "output_type": "error",
     "traceback": [
      "\u001b[1;36m  File \u001b[1;32m\"<ipython-input-9-9fc237d254cc>\"\u001b[1;36m, line \u001b[1;32m2\u001b[0m\n\u001b[1;33m    z - 1 = 9\u001b[0m\n\u001b[1;37m    ^\u001b[0m\n\u001b[1;31mSyntaxError\u001b[0m\u001b[1;31m:\u001b[0m cannot assign to operator\n"
     ]
    }
   ],
   "source": [
    "# 赋值的左边一定是变量\n",
    "z - 1 = 9"
   ]
  },
  {
   "cell_type": "markdown",
   "id": "b8d74beb",
   "metadata": {},
   "source": [
    "## 7.逻辑运算符"
   ]
  },
  {
   "cell_type": "markdown",
   "id": "ff41f409",
   "metadata": {},
   "source": [
    "| 运算符 | 逻辑表达式 | 描述 |\n",
    "| --- | --- | --- |\n",
    "| and | x and y | 逻辑‘与’：如果x为False ，x and y返回False，否则它返回y的计算值 |\n",
    "| or | x or y |逻辑‘或’：如果x为非0 ，它返回x的值，否则它返回y的计算值 |\n",
    "| not | not x |逻辑‘非’：如果x为True ，返回False，否则返回True |"
   ]
  },
  {
   "cell_type": "markdown",
   "id": "859981c0",
   "metadata": {},
   "source": [
    "### 7.1逻辑‘与’ "
   ]
  },
  {
   "cell_type": "code",
   "execution_count": 10,
   "id": "2b40b78e",
   "metadata": {},
   "outputs": [
    {
     "data": {
      "text/plain": [
       "True"
      ]
     },
     "execution_count": 10,
     "metadata": {},
     "output_type": "execute_result"
    }
   ],
   "source": [
    "True and True"
   ]
  },
  {
   "cell_type": "code",
   "execution_count": 11,
   "id": "e9885197",
   "metadata": {},
   "outputs": [
    {
     "data": {
      "text/plain": [
       "False"
      ]
     },
     "execution_count": 11,
     "metadata": {},
     "output_type": "execute_result"
    }
   ],
   "source": [
    "True and False"
   ]
  },
  {
   "cell_type": "code",
   "execution_count": 12,
   "id": "4bf73cdb",
   "metadata": {},
   "outputs": [
    {
     "data": {
      "text/plain": [
       "False"
      ]
     },
     "execution_count": 12,
     "metadata": {},
     "output_type": "execute_result"
    }
   ],
   "source": [
    "False and False"
   ]
  },
  {
   "cell_type": "markdown",
   "id": "6365f990",
   "metadata": {},
   "source": [
    "**逻辑运算中，非0的值视作True**"
   ]
  },
  {
   "cell_type": "code",
   "execution_count": 14,
   "id": "e78f9b83",
   "metadata": {},
   "outputs": [
    {
     "data": {
      "text/plain": [
       "25"
      ]
     },
     "execution_count": 14,
     "metadata": {},
     "output_type": "execute_result"
    }
   ],
   "source": [
    "# x and y 如果x为False，则返回False，否则返回y的计算值\n",
    "10 and 20+5"
   ]
  },
  {
   "cell_type": "markdown",
   "id": "d81bed7d",
   "metadata": {},
   "source": [
    "**逻辑运算中，0视作False**"
   ]
  },
  {
   "cell_type": "code",
   "execution_count": 15,
   "id": "f8df9f6b",
   "metadata": {},
   "outputs": [
    {
     "data": {
      "text/plain": [
       "0"
      ]
     },
     "execution_count": 15,
     "metadata": {},
     "output_type": "execute_result"
    }
   ],
   "source": [
    "0 and 20+5"
   ]
  },
  {
   "cell_type": "code",
   "execution_count": 16,
   "id": "d8659f7c",
   "metadata": {},
   "outputs": [
    {
     "data": {
      "text/plain": [
       "False"
      ]
     },
     "execution_count": 16,
     "metadata": {},
     "output_type": "execute_result"
    }
   ],
   "source": [
    "False and 20+5"
   ]
  },
  {
   "cell_type": "markdown",
   "id": "9cc8b0b2",
   "metadata": {},
   "source": [
    "**逻辑运算中，False的值就是0**"
   ]
  },
  {
   "cell_type": "code",
   "execution_count": 18,
   "id": "83d4d352",
   "metadata": {},
   "outputs": [
    {
     "data": {
      "text/plain": [
       "True"
      ]
     },
     "execution_count": 18,
     "metadata": {},
     "output_type": "execute_result"
    }
   ],
   "source": [
    "0 == False"
   ]
  },
  {
   "cell_type": "markdown",
   "id": "7c71198a",
   "metadata": {},
   "source": [
    "**逻辑运算中，True的值就是1**"
   ]
  },
  {
   "cell_type": "code",
   "execution_count": 20,
   "id": "4607887a",
   "metadata": {},
   "outputs": [
    {
     "data": {
      "text/plain": [
       "True"
      ]
     },
     "execution_count": 20,
     "metadata": {},
     "output_type": "execute_result"
    }
   ],
   "source": [
    "1 == True"
   ]
  },
  {
   "cell_type": "markdown",
   "id": "4355a17d",
   "metadata": {},
   "source": [
    "**逻辑运算中，非0的值只是视作True，但并不等于True。只有1等于True**"
   ]
  },
  {
   "cell_type": "code",
   "execution_count": 22,
   "id": "0bd9f418",
   "metadata": {},
   "outputs": [
    {
     "data": {
      "text/plain": [
       "False"
      ]
     },
     "execution_count": 22,
     "metadata": {},
     "output_type": "execute_result"
    }
   ],
   "source": [
    "5 == True"
   ]
  },
  {
   "cell_type": "markdown",
   "id": "5a97822b",
   "metadata": {},
   "source": [
    "### 7.2逻辑‘或’ "
   ]
  },
  {
   "cell_type": "code",
   "execution_count": 23,
   "id": "ad6fbbfc",
   "metadata": {},
   "outputs": [
    {
     "data": {
      "text/plain": [
       "True"
      ]
     },
     "execution_count": 23,
     "metadata": {},
     "output_type": "execute_result"
    }
   ],
   "source": [
    "True or True"
   ]
  },
  {
   "cell_type": "code",
   "execution_count": 24,
   "id": "2e3f798e",
   "metadata": {},
   "outputs": [
    {
     "data": {
      "text/plain": [
       "True"
      ]
     },
     "execution_count": 24,
     "metadata": {},
     "output_type": "execute_result"
    }
   ],
   "source": [
    "True or False"
   ]
  },
  {
   "cell_type": "code",
   "execution_count": 25,
   "id": "f7251720",
   "metadata": {},
   "outputs": [
    {
     "data": {
      "text/plain": [
       "False"
      ]
     },
     "execution_count": 25,
     "metadata": {},
     "output_type": "execute_result"
    }
   ],
   "source": [
    "False or False"
   ]
  },
  {
   "cell_type": "code",
   "execution_count": 26,
   "id": "9a67e141",
   "metadata": {},
   "outputs": [
    {
     "data": {
      "text/plain": [
       "10"
      ]
     },
     "execution_count": 26,
     "metadata": {},
     "output_type": "execute_result"
    }
   ],
   "source": [
    "10 or 20+5"
   ]
  },
  {
   "cell_type": "code",
   "execution_count": 27,
   "id": "d84f8727",
   "metadata": {},
   "outputs": [
    {
     "data": {
      "text/plain": [
       "25"
      ]
     },
     "execution_count": 27,
     "metadata": {},
     "output_type": "execute_result"
    }
   ],
   "source": [
    "0 or 20+5"
   ]
  },
  {
   "cell_type": "code",
   "execution_count": 29,
   "id": "bd85e2de",
   "metadata": {},
   "outputs": [
    {
     "data": {
      "text/plain": [
       "25"
      ]
     },
     "execution_count": 29,
     "metadata": {},
     "output_type": "execute_result"
    }
   ],
   "source": [
    "False or 20+5"
   ]
  },
  {
   "cell_type": "markdown",
   "id": "a7a25c50",
   "metadata": {},
   "source": [
    "### 7.3逻辑非"
   ]
  },
  {
   "cell_type": "code",
   "execution_count": 31,
   "id": "d94e1180",
   "metadata": {},
   "outputs": [
    {
     "data": {
      "text/plain": [
       "True"
      ]
     },
     "execution_count": 31,
     "metadata": {},
     "output_type": "execute_result"
    }
   ],
   "source": [
    "not False"
   ]
  },
  {
   "cell_type": "code",
   "execution_count": 32,
   "id": "0cfdaa59",
   "metadata": {},
   "outputs": [
    {
     "data": {
      "text/plain": [
       "False"
      ]
     },
     "execution_count": 32,
     "metadata": {},
     "output_type": "execute_result"
    }
   ],
   "source": [
    "not True"
   ]
  },
  {
   "cell_type": "code",
   "execution_count": 33,
   "id": "ea8f64bd",
   "metadata": {},
   "outputs": [
    {
     "data": {
      "text/plain": [
       "False"
      ]
     },
     "execution_count": 33,
     "metadata": {},
     "output_type": "execute_result"
    }
   ],
   "source": [
    "not 5"
   ]
  }
 ],
 "metadata": {
  "kernelspec": {
   "display_name": "Python 3",
   "language": "python",
   "name": "python3"
  },
  "language_info": {
   "codemirror_mode": {
    "name": "ipython",
    "version": 3
   },
   "file_extension": ".py",
   "mimetype": "text/x-python",
   "name": "python",
   "nbconvert_exporter": "python",
   "pygments_lexer": "ipython3",
   "version": "3.8.8"
  }
 },
 "nbformat": 4,
 "nbformat_minor": 5
}
